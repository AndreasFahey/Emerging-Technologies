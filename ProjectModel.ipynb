{
 "cells": [
  {
   "cell_type": "code",
   "execution_count": 1,
   "metadata": {},
   "outputs": [],
   "source": [
    "## Andreas Fahey - G00346830"
   ]
  },
  {
   "cell_type": "code",
   "execution_count": 2,
   "metadata": {},
   "outputs": [],
   "source": [
    "## Project - Training a Model"
   ]
  },
  {
   "cell_type": "code",
   "execution_count": 3,
   "metadata": {},
   "outputs": [
    {
     "name": "stderr",
     "output_type": "stream",
     "text": [
      "Using TensorFlow backend.\n"
     ]
    }
   ],
   "source": [
    "## Imports\n",
    "import keras as kr\n",
    "import numpy as np\n",
    "import matplotlib.pyplot as plt\n",
    "## Got rid of Unnecessary imports after tidying & fixing model to suit web app"
   ]
  },
  {
   "cell_type": "code",
   "execution_count": 4,
   "metadata": {},
   "outputs": [],
   "source": [
    "## Load the MNIST Dataset\n",
    "(X_train, y_train), (X_test, y_test) = kr.datasets.mnist.load_data()"
   ]
  },
  {
   "cell_type": "code",
   "execution_count": 5,
   "metadata": {},
   "outputs": [
    {
     "name": "stdout",
     "output_type": "stream",
     "text": [
      "One Hot Vector at index of 5:  [0. 0. 1. 0. 0. 0. 0. 0. 0. 0.]\n"
     ]
    }
   ],
   "source": [
    "## This function splits the dataset into train and test sets\n",
    "## Build input vector (28x28=784)\n",
    "X_train = X_train.reshape(60000, 784)\n",
    "X_test = X_test.reshape(10000, 784)\n",
    "X_train = X_train.astype('float32')\n",
    "X_test = X_test.astype('float32')\n",
    "\n",
    "## Normalising data\n",
    "X_train = X_train/255\n",
    "X_test = X_test/255\n",
    "\n",
    "## MNIST Dataset \n",
    "## 10 unique digits\n",
    "digits = 10\n",
    "\n",
    "## Pass y train and y test to One Hot vectors, size = 10\n",
    "y_train = kr.utils.np_utils.to_categorical(y_train, digits)\n",
    "y_test = kr.utils.np_utils.to_categorical(y_test, digits)\n",
    "\n",
    "## Third Value should be 1\n",
    "print(\"One Hot Vector at index of 5: \", y_train[5])"
   ]
  },
  {
   "cell_type": "code",
   "execution_count": 6,
   "metadata": {},
   "outputs": [
    {
     "data": {
      "image/png": "[encoded data removed]",
      "text/plain": [
       "<Figure size 1440x720 with 50 Axes>"
      ]
     },
     "metadata": {},
     "output_type": "display_data"
    }
   ],
   "source": [
    "## Test Example\n",
    "plt.figure(1, figsize=(20,10))\n",
    "## Loop to display first 50 values in dataset\n",
    "for i in range(50):\n",
    "    plt.subplot(5,50,i+1)\n",
    "    plt.imshow(X_train[i].reshape(28,28), cmap='gray', interpolation='nearest')\n",
    "    plt.xticks([])\n",
    "    plt.yticks([])"
   ]
  },
  {
   "cell_type": "code",
   "execution_count": 7,
   "metadata": {},
   "outputs": [
    {
     "name": "stdout",
     "output_type": "stream",
     "text": [
      "LAYERS ADDED TO MODEL !\n"
     ]
    }
   ],
   "source": [
    "## Creating Neural Network\n",
    "## Build linear stack of layers with Sequential Model\n",
    "model = kr.models.Sequential()\n",
    "model.add(kr.layers.Dense(512, activation='relu', input_shape=(784,)))\n",
    "model.add(kr.layers.Dense(512, activation='relu'))\n",
    "model.add(kr.layers.Dropout(0.2))\n",
    "model.add(kr.layers.Dense(10, activation='softmax'))\n",
    "print(\"LAYERS ADDED TO MODEL !\")"
   ]
  },
  {
   "cell_type": "code",
   "execution_count": 8,
   "metadata": {},
   "outputs": [
    {
     "name": "stdout",
     "output_type": "stream",
     "text": [
      "MODEL SUMMARY : \n",
      "Model: \"sequential_1\"\n",
      "_________________________________________________________________\n",
      "Layer (type)                 Output Shape              Param #   \n",
      "=================================================================\n",
      "dense_1 (Dense)              (None, 512)               401920    \n",
      "_________________________________________________________________\n",
      "dense_2 (Dense)              (None, 512)               262656    \n",
      "_________________________________________________________________\n",
      "dropout_1 (Dropout)          (None, 512)               0         \n",
      "_________________________________________________________________\n",
      "dense_3 (Dense)              (None, 10)                5130      \n",
      "=================================================================\n",
      "Total params: 669,706\n",
      "Trainable params: 669,706\n",
      "Non-trainable params: 0\n",
      "_________________________________________________________________\n"
     ]
    }
   ],
   "source": [
    "## This time going to show an in depth summary of the model\n",
    "print(\"MODEL SUMMARY : \")\n",
    "model.summary()"
   ]
  },
  {
   "cell_type": "code",
   "execution_count": 9,
   "metadata": {},
   "outputs": [
    {
     "name": "stdout",
     "output_type": "stream",
     "text": [
      "COMPILED MODEL !\n"
     ]
    }
   ],
   "source": [
    "## Compiling and Training The Model\n",
    "model.compile(loss='categorical_crossentropy', metrics=['accuracy'], optimizer='adam')\n",
    "print(\"COMPILED MODEL !\")"
   ]
  },
  {
   "cell_type": "code",
   "execution_count": 10,
   "metadata": {},
   "outputs": [
    {
     "name": "stdout",
     "output_type": "stream",
     "text": [
      "Train on 60000 samples, validate on 10000 samples\n",
      "Epoch 1/5\n",
      "60000/60000 [==============================] - 12s 203us/step - loss: 0.1966 - accuracy: 0.9408 - val_loss: 0.1072 - val_accuracy: 0.9655\n",
      "Epoch 2/5\n",
      "60000/60000 [==============================] - 12s 196us/step - loss: 0.0814 - accuracy: 0.9755 - val_loss: 0.0763 - val_accuracy: 0.9760\n",
      "Epoch 3/5\n",
      "60000/60000 [==============================] - 12s 198us/step - loss: 0.0577 - accuracy: 0.9817 - val_loss: 0.0839 - val_accuracy: 0.9751\n",
      "Epoch 4/5\n",
      "60000/60000 [==============================] - 12s 202us/step - loss: 0.0422 - accuracy: 0.9865 - val_loss: 0.0758 - val_accuracy: 0.9776\n",
      "Epoch 5/5\n",
      "60000/60000 [==============================] - 12s 199us/step - loss: 0.0353 - accuracy: 0.9889 - val_loss: 0.0775 - val_accuracy: 0.9789\n",
      "Result:\n",
      "Accuracy: 0.992166638\n",
      "Loss: 0.024142365\n",
      "MODEL SAVED AS newModel.h5\n"
     ]
    },
    {
     "data": {
      "image/png": "[encoded data removed]",
      "text/plain": [
       "<Figure size 1008x360 with 2 Axes>"
      ]
     },
     "metadata": {
      "needs_background": "light"
     },
     "output_type": "display_data"
    }
   ],
   "source": [
    "## Training The Model\n",
    "## Saving The Metrics\n",
    "## Reduced Epochs from 20 to 5 to save time\n",
    "history = model.fit(X_train, y_train,\n",
    "          batch_size = 50, epochs=5, \n",
    "          verbose=1, \n",
    "          validation_data=(X_test, y_test))\n",
    "\n",
    "## Show Loss and Accuracy of Model\n",
    "print(\"Result:\")\n",
    "score = model.evaluate(X_train, y_train, verbose=0)\n",
    "print('Accuracy: %0.9f' % score[1])\n",
    "print('Loss: %0.9f' % score[0])\n",
    "\n",
    "\n",
    "## Plotting Metrics\n",
    "## Accuracy\n",
    "plt.figure(1, figsize=(14,5))\n",
    "plt.subplot(2,2,1)\n",
    "plt.plot(history.history['accuracy'], label='train')\n",
    "plt.plot(history.history['val_accuracy'], label='test')\n",
    "plt.title('Model Accuracy')\n",
    "plt.xlabel('Epoch')\n",
    "plt.ylabel('Accuracy')\n",
    "plt.legend()\n",
    "\n",
    "## Loss\n",
    "plt.subplot(2,2,2)\n",
    "plt.plot(history.history['loss'], label='train')\n",
    "plt.plot(history.history['val_loss'], label='test')\n",
    "plt.title('Model Loss')\n",
    "plt.xlabel('Epoch')\n",
    "plt.ylabel('Loss')\n",
    "plt.legend()\n",
    "\n",
    "## Saving my Model\n",
    "## Now saving outside of savedModel folder due to Web App file access issues\n",
    "model.save('newModel.h5')\n",
    "print(\"MODEL SAVED AS newModel.h5\")"
   ]
  },
  {
   "cell_type": "code",
   "execution_count": 11,
   "metadata": {},
   "outputs": [
    {
     "name": "stdout",
     "output_type": "stream",
     "text": [
      "MODEL LOADED, READY FOR PREDICTION TESTING !\n"
     ]
    }
   ],
   "source": [
    "## Load Model to Make Predictions\n",
    "loadedModel = kr.models.load_model('newModel.h5')\n",
    "print(\"MODEL LOADED, READY FOR PREDICTION TESTING !\")"
   ]
  },
  {
   "cell_type": "code",
   "execution_count": 12,
   "metadata": {},
   "outputs": [
    {
     "data": {
      "image/png": "[encoded data removed]",
      "text/plain": [
       "<Figure size 432x288 with 1 Axes>"
      ]
     },
     "metadata": {
      "needs_background": "light"
     },
     "output_type": "display_data"
    },
    {
     "data": {
      "text/plain": [
       "('Prediction: ', 4)"
      ]
     },
     "execution_count": 12,
     "metadata": {},
     "output_type": "execute_result"
    }
   ],
   "source": [
    "## Plots Image that will be sent for prediction\n",
    "plt.imshow(X_test[65].reshape(28,28), cmap=\"gray\")\n",
    "plt.title('MODEL PREDICTION TEST RESULT')\n",
    "plt.show()\n",
    "\n",
    "## This will return an normalized output for each digit \n",
    "## I used argmax to return the actual prediction\n",
    "\"Prediction: \", np.argmax(loadedModel.predict(X_test[65:66]))"
   ]
  },
  {
   "cell_type": "code",
   "execution_count": null,
   "metadata": {},
   "outputs": [],
   "source": []
  }
 ],
 "metadata": {
  "kernelspec": {
   "display_name": "Python 3",
   "language": "python",
   "name": "python3"
  },
  "language_info": {
   "codemirror_mode": {
    "name": "ipython",
    "version": 3
   },
   "file_extension": ".py",
   "mimetype": "text/x-python",
   "name": "python",
   "nbconvert_exporter": "python",
   "pygments_lexer": "ipython3",
   "version": "3.7.4"
  }
 },
 "nbformat": 4,
 "nbformat_minor": 4
}
