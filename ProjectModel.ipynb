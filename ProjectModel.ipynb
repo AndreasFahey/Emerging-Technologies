{
 "cells": [
  {
   "cell_type": "code",
   "execution_count": 1,
   "metadata": {},
   "outputs": [],
   "source": [
    "## Andreas Fahey - G00346830"
   ]
  },
  {
   "cell_type": "code",
   "execution_count": 2,
   "metadata": {},
   "outputs": [],
   "source": [
    "## Project - Training a Model"
   ]
  },
  {
   "cell_type": "code",
   "execution_count": 3,
   "metadata": {},
   "outputs": [
    {
     "name": "stderr",
     "output_type": "stream",
     "text": [
      "Using TensorFlow backend.\n"
     ]
    }
   ],
   "source": [
    "import keras as kr\n",
    "import numpy as np\n",
    "import matplotlib.pyplot as plt\n",
    "import gzip\n",
    "import matplotlib\n",
    "matplotlib.use('agg')\n",
    "\n",
    "## keras imports for dataset for Neural Network\n",
    "from keras.datasets import mnist\n",
    "from keras.models import Sequential, load_model\n",
    "from keras.utils import np_utils\n",
    "from keras.layers.core import Dense, Dropout, Activation\n",
    "\n",
    "import os\n",
    "os.environ['TF_CPP_MIN_LOG_LEVEL']='3'"
   ]
  },
  {
   "cell_type": "code",
   "execution_count": 4,
   "metadata": {},
   "outputs": [],
   "source": [
    "## Load the MNIST Dataset\n",
    "## This function splits the dataset into train and test sets\n",
    "(X_train, y_train), (X_test, y_test) = mnist.load_data()"
   ]
  },
  {
   "cell_type": "code",
   "execution_count": 5,
   "metadata": {},
   "outputs": [
    {
     "data": {
      "image/png": "[encoded data removed]",
      "text/plain": [
       "<Figure size 432x288 with 9 Axes>"
      ]
     },
     "execution_count": 5,
     "metadata": {},
     "output_type": "execute_result"
    },
    {
     "data": {
      "image/png": "[encoded data removed]",
      "text/plain": [
       "<Figure size 432x288 with 9 Axes>"
      ]
     },
     "metadata": {},
     "output_type": "display_data"
    }
   ],
   "source": [
    "## Test Example\n",
    "fig = plt.figure()\n",
    "for i in range(9):\n",
    "    plt.subplot(5,5,i+1)\n",
    "    plt.imshow(X_train[i], cmap='gray', interpolation='none')\n",
    "    plt.title(\"Digit: {}\".format(y_train[i]))\n",
    "    plt.tight_layout()\n",
    "    plt.xticks([])\n",
    "    plt.yticks([])\n",
    "fig"
   ]
  },
  {
   "cell_type": "code",
   "execution_count": 6,
   "metadata": {},
   "outputs": [
    {
     "data": {
      "image/png": "[encoded data removed]",
      "text/plain": [
       "<Figure size 432x288 with 2 Axes>"
      ]
     },
     "execution_count": 6,
     "metadata": {},
     "output_type": "execute_result"
    },
    {
     "data": {
      "image/png": "[encoded data removed]",
      "text/plain": [
       "<Figure size 432x288 with 2 Axes>"
      ]
     },
     "metadata": {
      "needs_background": "light"
     },
     "output_type": "display_data"
    }
   ],
   "source": [
    "## Length must be 28*28=784 \n",
    "fig = plt.figure()\n",
    "plt.subplot(2,2,1)\n",
    "plt.imshow(X_train[i], cmap='gray', interpolation='none')\n",
    "plt.title(\"Digit: {}\".format(y_train[0]))\n",
    "plt.xticks([])\n",
    "plt.yticks([])\n",
    "plt.subplot(2,1,2)\n",
    "plt.hist(X_train[0].reshape(784))\n",
    "fig"
   ]
  },
  {
   "cell_type": "code",
   "execution_count": 7,
   "metadata": {},
   "outputs": [
    {
     "name": "stdout",
     "output_type": "stream",
     "text": [
      "X_train shape (60000, 28, 28)\n",
      "y_train shape (60000,)\n",
      "X_test shape (10000, 28, 28)\n",
      "y_test shape (10000,)\n",
      "Train Shape (60000, 784)\n",
      "Test Shape (10000, 784)\n"
     ]
    }
   ],
   "source": [
    "## Print Shape\n",
    "print(\"X_train shape\", X_train.shape)\n",
    "print(\"y_train shape\", y_train.shape)\n",
    "print(\"X_test shape\", X_test.shape)\n",
    "print(\"y_test shape\", y_test.shape)\n",
    "\n",
    "## Build input vector (28x28=784)\n",
    "X_train = X_train.reshape(60000, 784)\n",
    "X_test = X_test.reshape(10000, 784)\n",
    "X_train = X_train.astype('float32')\n",
    "X_test = X_test.astype('float32')\n",
    "\n",
    "## Normalising data\n",
    "X_train /= 255\n",
    "X_test /= 255\n",
    "\n",
    "## Print Input Shape\n",
    "print(\"Train Shape\", X_train.shape)\n",
    "print(\"Test Shape\", X_test.shape)"
   ]
  },
  {
   "cell_type": "code",
   "execution_count": 8,
   "metadata": {},
   "outputs": [
    {
     "name": "stdout",
     "output_type": "stream",
     "text": [
      "(array([0, 1, 2, 3, 4, 5, 6, 7, 8, 9], dtype=uint8), array([5923, 6742, 5958, 6131, 5842, 5421, 5918, 6265, 5851, 5949],\n",
      "      dtype=int64))\n"
     ]
    }
   ],
   "source": [
    "print(np.unique(y_train, return_counts=True))"
   ]
  },
  {
   "cell_type": "code",
   "execution_count": 9,
   "metadata": {},
   "outputs": [
    {
     "name": "stdout",
     "output_type": "stream",
     "text": [
      "Shape before Encoding:  (60000,)\n",
      "Shape after Encoding (60000, 10)\n"
     ]
    }
   ],
   "source": [
    "##  Encoding Using Keras Numpy Utils\n",
    "n_classes = 10\n",
    "print(\"Shape before Encoding: \", y_train.shape)\n",
    "Y_train = np_utils.to_categorical(y_train, n_classes)\n",
    "Y_test = np_utils.to_categorical(y_test, n_classes)\n",
    "print(\"Shape after Encoding\", Y_train.shape)"
   ]
  },
  {
   "cell_type": "code",
   "execution_count": 10,
   "metadata": {},
   "outputs": [],
   "source": [
    "## Build linear stack of layers with Sequential Model\n",
    "model = Sequential()\n",
    "model.add(Dense(512, input_shape=(784,)))\n",
    "model.add(Activation('relu'))\n",
    "model.add(Dropout(0.2))\n",
    "\n",
    "model.add(Dense(512))\n",
    "model.add(Activation('relu'))\n",
    "model.add(Dropout(0.2))\n",
    "\n",
    "model.add(Dense(10))\n",
    "model.add(Activation('softmax'))"
   ]
  },
  {
   "cell_type": "code",
   "execution_count": 11,
   "metadata": {},
   "outputs": [],
   "source": [
    "## Compiling and Training The Model\n",
    "model.compile(loss='categorical_crossentropy', metrics=['accuracy'], optimizer='adam')"
   ]
  },
  {
   "cell_type": "code",
   "execution_count": 12,
   "metadata": {},
   "outputs": [
    {
     "name": "stdout",
     "output_type": "stream",
     "text": [
      "Train on 60000 samples, validate on 10000 samples\n",
      "Epoch 1/20\n",
      " - 7s - loss: 0.2523 - accuracy: 0.9239 - val_loss: 0.1091 - val_accuracy: 0.9657\n",
      "Epoch 2/20\n",
      " - 6s - loss: 0.1009 - accuracy: 0.9691 - val_loss: 0.0797 - val_accuracy: 0.9759\n",
      "Epoch 3/20\n",
      " - 6s - loss: 0.0713 - accuracy: 0.9778 - val_loss: 0.0705 - val_accuracy: 0.9782\n",
      "Epoch 4/20\n",
      " - 6s - loss: 0.0569 - accuracy: 0.9817 - val_loss: 0.0667 - val_accuracy: 0.9793\n",
      "Epoch 5/20\n",
      " - 6s - loss: 0.0451 - accuracy: 0.9858 - val_loss: 0.0675 - val_accuracy: 0.9809\n",
      "Epoch 6/20\n",
      " - 6s - loss: 0.0386 - accuracy: 0.9869 - val_loss: 0.0823 - val_accuracy: 0.9778\n",
      "Epoch 7/20\n",
      " - 6s - loss: 0.0340 - accuracy: 0.9886 - val_loss: 0.0693 - val_accuracy: 0.9819\n",
      "Epoch 8/20\n",
      " - 6s - loss: 0.0292 - accuracy: 0.9908 - val_loss: 0.0598 - val_accuracy: 0.9830\n",
      "Epoch 9/20\n",
      " - 6s - loss: 0.0274 - accuracy: 0.9909 - val_loss: 0.0723 - val_accuracy: 0.9812\n",
      "Epoch 10/20\n",
      " - 6s - loss: 0.0259 - accuracy: 0.9913 - val_loss: 0.0821 - val_accuracy: 0.9797\n",
      "Epoch 11/20\n",
      " - 6s - loss: 0.0249 - accuracy: 0.9915 - val_loss: 0.0666 - val_accuracy: 0.9841\n",
      "Epoch 12/20\n",
      " - 6s - loss: 0.0221 - accuracy: 0.9926 - val_loss: 0.0645 - val_accuracy: 0.9842\n",
      "Epoch 13/20\n",
      " - 6s - loss: 0.0203 - accuracy: 0.9934 - val_loss: 0.0651 - val_accuracy: 0.9832\n",
      "Epoch 14/20\n",
      " - 6s - loss: 0.0208 - accuracy: 0.9933 - val_loss: 0.0731 - val_accuracy: 0.9810\n",
      "Epoch 15/20\n",
      " - 6s - loss: 0.0183 - accuracy: 0.9937 - val_loss: 0.0645 - val_accuracy: 0.9839\n",
      "Epoch 16/20\n",
      " - 6s - loss: 0.0162 - accuracy: 0.9947 - val_loss: 0.0770 - val_accuracy: 0.9825\n",
      "Epoch 17/20\n",
      " - 6s - loss: 0.0167 - accuracy: 0.9946 - val_loss: 0.0885 - val_accuracy: 0.9807\n",
      "Epoch 18/20\n",
      " - 7s - loss: 0.0158 - accuracy: 0.9953 - val_loss: 0.0745 - val_accuracy: 0.9833\n",
      "Epoch 19/20\n",
      " - 6s - loss: 0.0169 - accuracy: 0.9947 - val_loss: 0.0728 - val_accuracy: 0.9839\n",
      "Epoch 20/20\n",
      " - 6s - loss: 0.0144 - accuracy: 0.9955 - val_loss: 0.0793 - val_accuracy: 0.9832\n",
      "Saved Model at savedModel/trainedModel.h5 \n"
     ]
    },
    {
     "data": {
      "image/png": "[encoded data removed]",
      "text/plain": [
       "<Figure size 432x288 with 2 Axes>"
      ]
     },
     "execution_count": 12,
     "metadata": {},
     "output_type": "execute_result"
    },
    {
     "data": {
      "image/png": "[encoded data removed]",
      "text/plain": [
       "<Figure size 432x288 with 2 Axes>"
      ]
     },
     "metadata": {
      "needs_background": "light"
     },
     "output_type": "display_data"
    }
   ],
   "source": [
    "## Training Model \n",
    "## Saving the Metrics\n",
    "history = model.fit(X_train, Y_train,\n",
    "          batch_size=128, epochs=20,\n",
    "          verbose=2,\n",
    "          validation_data=(X_test, Y_test))\n",
    "\n",
    "## Saving my Model\n",
    "save_dir = \"savedModel/\"\n",
    "model_name = 'trainedModel.h5'\n",
    "model_path = os.path.join(save_dir, model_name)\n",
    "model.save(model_path)\n",
    "print('Saved Model at %s ' % model_path)\n",
    "\n",
    "## Plotting Metrics\n",
    "fig = plt.figure()\n",
    "plt.subplot(2,2,1)\n",
    "plt.plot(history.history['accuracy'])\n",
    "plt.plot(history.history['val_accuracy'])\n",
    "plt.title('Model Accuracy')\n",
    "plt.ylabel('accuracy')\n",
    "plt.xlabel('epoch')\n",
    "plt.legend(['train', 'test'], loc='lower right')\n",
    "\n",
    "plt.subplot(2,2,2)\n",
    "plt.plot(history.history['loss'])\n",
    "plt.plot(history.history['val_loss'])\n",
    "plt.title('Model Loss')\n",
    "plt.ylabel('loss')\n",
    "plt.xlabel('epoch')\n",
    "plt.legend(['train', 'test'], loc='upper right')\n",
    "\n",
    "plt.tight_layout()\n",
    "\n",
    "fig"
   ]
  },
  {
   "cell_type": "code",
   "execution_count": 13,
   "metadata": {},
   "outputs": [
    {
     "name": "stdout",
     "output_type": "stream",
     "text": [
      "Loading Model...\n",
      "Model loaded !\n"
     ]
    }
   ],
   "source": [
    "## Load Model to Make Predictions\n",
    "print(\"Loading Model...\")\n",
    "loadedModel = kr.models.load_model('savedModel/trainedModel.h5')\n",
    "print(\"Model loaded !\")"
   ]
  },
  {
   "cell_type": "code",
   "execution_count": 14,
   "metadata": {},
   "outputs": [
    {
     "data": {
      "image/png": "[encoded data removed]",
      "text/plain": [
       "<Figure size 432x288 with 1 Axes>"
      ]
     },
     "metadata": {
      "needs_background": "light"
     },
     "output_type": "display_data"
    },
    {
     "data": {
      "text/plain": [
       "('Prediction: ', 4)"
      ]
     },
     "execution_count": 14,
     "metadata": {},
     "output_type": "execute_result"
    }
   ],
   "source": [
    "## Plots Image that will be sent for prediction\n",
    "plt.imshow(X_test[65].reshape(28,28), cmap=\"gray\")\n",
    "plt.title('Model Prediction Test')\n",
    "plt.show()\n",
    "\n",
    "## This will return an normalized output for each digit \n",
    "## I used argmax to return the actual prediction\n",
    "\"Prediction: \", np.argmax(loadedModel.predict(X_test[65:66]))"
   ]
  },
  {
   "cell_type": "code",
   "execution_count": null,
   "metadata": {},
   "outputs": [],
   "source": []
  }
 ],
 "metadata": {
  "kernelspec": {
   "display_name": "Python 3",
   "language": "python",
   "name": "python3"
  },
  "language_info": {
   "codemirror_mode": {
    "name": "ipython",
    "version": 3
   },
   "file_extension": ".py",
   "mimetype": "text/x-python",
   "name": "python",
   "nbconvert_exporter": "python",
   "pygments_lexer": "ipython3",
   "version": "3.7.4"
  }
 },
 "nbformat": 4,
 "nbformat_minor": 4
}
